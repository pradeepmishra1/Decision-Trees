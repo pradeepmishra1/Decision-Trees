{
 "cells": [
  {
   "cell_type": "markdown",
   "metadata": {},
   "source": [
    "# Problem Statement"
   ]
  },
  {
   "cell_type": "markdown",
   "metadata": {},
   "source": [
    "Based on the given loan data can we understand the major factors or characteristics of a borrower which makes them to get into delinquent stage.\n",
    "\n",
    "• Delinquency is a major metric in assessing risk as more and more customers getting delinquent means the risk of customers that will default will also increase.\n",
    "\n",
    "• The main objective is to minimize the risk for which you need to build a decision tree model using CART technique that will identify various risk and non-risk attributes of borrower’s to get into delinquent stage"
   ]
  },
  {
   "cell_type": "markdown",
   "metadata": {},
   "source": [
    "# Importing libraries and Loading data"
   ]
  },
  {
   "cell_type": "code",
   "execution_count": 103,
   "metadata": {
    "ExecuteTime": {
     "end_time": "2021-09-29T09:17:22.721314Z",
     "start_time": "2021-09-29T09:17:22.713514Z"
    }
   },
   "outputs": [],
   "source": [
    "import numpy as np\n",
    "import pandas as pd\n",
    "from sklearn.tree import DecisionTreeClassifier, DecisionTreeRegressor"
   ]
  },
  {
   "cell_type": "code",
   "execution_count": 104,
   "metadata": {
    "ExecuteTime": {
     "end_time": "2021-09-29T09:17:23.317486Z",
     "start_time": "2021-09-29T09:17:23.279161Z"
    }
   },
   "outputs": [],
   "source": [
    "ld_df = pd.read_csv(\"Loan Delinquent Dataset.csv\")"
   ]
  },
  {
   "cell_type": "markdown",
   "metadata": {},
   "source": [
    "# Checking the data"
   ]
  },
  {
   "cell_type": "code",
   "execution_count": 105,
   "metadata": {
    "ExecuteTime": {
     "end_time": "2021-09-29T09:17:24.659757Z",
     "start_time": "2021-09-29T09:17:24.642648Z"
    }
   },
   "outputs": [
    {
     "data": {
      "text/html": [
       "<div>\n",
       "<style scoped>\n",
       "    .dataframe tbody tr th:only-of-type {\n",
       "        vertical-align: middle;\n",
       "    }\n",
       "\n",
       "    .dataframe tbody tr th {\n",
       "        vertical-align: top;\n",
       "    }\n",
       "\n",
       "    .dataframe thead th {\n",
       "        text-align: right;\n",
       "    }\n",
       "</style>\n",
       "<table border=\"1\" class=\"dataframe\">\n",
       "  <thead>\n",
       "    <tr style=\"text-align: right;\">\n",
       "      <th></th>\n",
       "      <th>ID</th>\n",
       "      <th>delinquent</th>\n",
       "      <th>Sdelinquent</th>\n",
       "      <th>term</th>\n",
       "      <th>gender</th>\n",
       "      <th>purpose</th>\n",
       "      <th>home_ownership</th>\n",
       "      <th>age</th>\n",
       "      <th>FICO</th>\n",
       "    </tr>\n",
       "  </thead>\n",
       "  <tbody>\n",
       "    <tr>\n",
       "      <th>0</th>\n",
       "      <td>1</td>\n",
       "      <td>Yes</td>\n",
       "      <td>1</td>\n",
       "      <td>36 months</td>\n",
       "      <td>Female</td>\n",
       "      <td>House</td>\n",
       "      <td>Mortgage</td>\n",
       "      <td>&gt;25</td>\n",
       "      <td>300-500</td>\n",
       "    </tr>\n",
       "    <tr>\n",
       "      <th>1</th>\n",
       "      <td>2</td>\n",
       "      <td>No</td>\n",
       "      <td>0</td>\n",
       "      <td>36 months</td>\n",
       "      <td>Female</td>\n",
       "      <td>House</td>\n",
       "      <td>Rent</td>\n",
       "      <td>20-25</td>\n",
       "      <td>&gt;500</td>\n",
       "    </tr>\n",
       "    <tr>\n",
       "      <th>2</th>\n",
       "      <td>3</td>\n",
       "      <td>Yes</td>\n",
       "      <td>1</td>\n",
       "      <td>36 months</td>\n",
       "      <td>Female</td>\n",
       "      <td>House</td>\n",
       "      <td>Rent</td>\n",
       "      <td>&gt;25</td>\n",
       "      <td>300-500</td>\n",
       "    </tr>\n",
       "    <tr>\n",
       "      <th>3</th>\n",
       "      <td>4</td>\n",
       "      <td>Yes</td>\n",
       "      <td>1</td>\n",
       "      <td>36 months</td>\n",
       "      <td>Female</td>\n",
       "      <td>Car</td>\n",
       "      <td>Mortgage</td>\n",
       "      <td>&gt;25</td>\n",
       "      <td>300-500</td>\n",
       "    </tr>\n",
       "    <tr>\n",
       "      <th>4</th>\n",
       "      <td>5</td>\n",
       "      <td>Yes</td>\n",
       "      <td>1</td>\n",
       "      <td>36 months</td>\n",
       "      <td>Female</td>\n",
       "      <td>House</td>\n",
       "      <td>Rent</td>\n",
       "      <td>&gt;25</td>\n",
       "      <td>300-500</td>\n",
       "    </tr>\n",
       "  </tbody>\n",
       "</table>\n",
       "</div>"
      ],
      "text/plain": [
       "   ID delinquent  Sdelinquent       term  gender purpose home_ownership  \\\n",
       "0   1        Yes            1  36 months  Female   House       Mortgage   \n",
       "1   2         No            0  36 months  Female   House           Rent   \n",
       "2   3        Yes            1  36 months  Female   House           Rent   \n",
       "3   4        Yes            1  36 months  Female     Car       Mortgage   \n",
       "4   5        Yes            1  36 months  Female   House           Rent   \n",
       "\n",
       "     age     FICO  \n",
       "0    >25  300-500  \n",
       "1  20-25     >500  \n",
       "2    >25  300-500  \n",
       "3    >25  300-500  \n",
       "4    >25  300-500  "
      ]
     },
     "execution_count": 105,
     "metadata": {},
     "output_type": "execute_result"
    }
   ],
   "source": [
    "ld_df.head()"
   ]
  },
  {
   "cell_type": "markdown",
   "metadata": {},
   "source": [
    "### Dropping unwanted variables"
   ]
  },
  {
   "cell_type": "markdown",
   "metadata": {},
   "source": [
    "Sdelinquent can also be dropped instead of delinquent."
   ]
  },
  {
   "cell_type": "code",
   "execution_count": 106,
   "metadata": {
    "ExecuteTime": {
     "end_time": "2021-09-29T09:17:26.520656Z",
     "start_time": "2021-09-29T09:17:26.506412Z"
    }
   },
   "outputs": [],
   "source": [
    "ld_df=ld_df.drop([\"ID\",\"delinquent\"],axis=1) "
   ]
  },
  {
   "cell_type": "code",
   "execution_count": 107,
   "metadata": {
    "ExecuteTime": {
     "end_time": "2021-09-29T09:17:27.072082Z",
     "start_time": "2021-09-29T09:17:27.049551Z"
    }
   },
   "outputs": [
    {
     "data": {
      "text/html": [
       "<div>\n",
       "<style scoped>\n",
       "    .dataframe tbody tr th:only-of-type {\n",
       "        vertical-align: middle;\n",
       "    }\n",
       "\n",
       "    .dataframe tbody tr th {\n",
       "        vertical-align: top;\n",
       "    }\n",
       "\n",
       "    .dataframe thead th {\n",
       "        text-align: right;\n",
       "    }\n",
       "</style>\n",
       "<table border=\"1\" class=\"dataframe\">\n",
       "  <thead>\n",
       "    <tr style=\"text-align: right;\">\n",
       "      <th></th>\n",
       "      <th>Sdelinquent</th>\n",
       "      <th>term</th>\n",
       "      <th>gender</th>\n",
       "      <th>purpose</th>\n",
       "      <th>home_ownership</th>\n",
       "      <th>age</th>\n",
       "      <th>FICO</th>\n",
       "    </tr>\n",
       "  </thead>\n",
       "  <tbody>\n",
       "    <tr>\n",
       "      <th>0</th>\n",
       "      <td>1</td>\n",
       "      <td>36 months</td>\n",
       "      <td>Female</td>\n",
       "      <td>House</td>\n",
       "      <td>Mortgage</td>\n",
       "      <td>&gt;25</td>\n",
       "      <td>300-500</td>\n",
       "    </tr>\n",
       "    <tr>\n",
       "      <th>1</th>\n",
       "      <td>0</td>\n",
       "      <td>36 months</td>\n",
       "      <td>Female</td>\n",
       "      <td>House</td>\n",
       "      <td>Rent</td>\n",
       "      <td>20-25</td>\n",
       "      <td>&gt;500</td>\n",
       "    </tr>\n",
       "    <tr>\n",
       "      <th>2</th>\n",
       "      <td>1</td>\n",
       "      <td>36 months</td>\n",
       "      <td>Female</td>\n",
       "      <td>House</td>\n",
       "      <td>Rent</td>\n",
       "      <td>&gt;25</td>\n",
       "      <td>300-500</td>\n",
       "    </tr>\n",
       "    <tr>\n",
       "      <th>3</th>\n",
       "      <td>1</td>\n",
       "      <td>36 months</td>\n",
       "      <td>Female</td>\n",
       "      <td>Car</td>\n",
       "      <td>Mortgage</td>\n",
       "      <td>&gt;25</td>\n",
       "      <td>300-500</td>\n",
       "    </tr>\n",
       "    <tr>\n",
       "      <th>4</th>\n",
       "      <td>1</td>\n",
       "      <td>36 months</td>\n",
       "      <td>Female</td>\n",
       "      <td>House</td>\n",
       "      <td>Rent</td>\n",
       "      <td>&gt;25</td>\n",
       "      <td>300-500</td>\n",
       "    </tr>\n",
       "  </tbody>\n",
       "</table>\n",
       "</div>"
      ],
      "text/plain": [
       "   Sdelinquent       term  gender purpose home_ownership    age     FICO\n",
       "0            1  36 months  Female   House       Mortgage    >25  300-500\n",
       "1            0  36 months  Female   House           Rent  20-25     >500\n",
       "2            1  36 months  Female   House           Rent    >25  300-500\n",
       "3            1  36 months  Female     Car       Mortgage    >25  300-500\n",
       "4            1  36 months  Female   House           Rent    >25  300-500"
      ]
     },
     "execution_count": 107,
     "metadata": {},
     "output_type": "execute_result"
    }
   ],
   "source": [
    "ld_df.head()"
   ]
  },
  {
   "cell_type": "code",
   "execution_count": 108,
   "metadata": {
    "ExecuteTime": {
     "end_time": "2021-09-29T09:17:27.637630Z",
     "start_time": "2021-09-29T09:17:27.621866Z"
    }
   },
   "outputs": [
    {
     "data": {
      "text/plain": [
       "(11548, 7)"
      ]
     },
     "execution_count": 108,
     "metadata": {},
     "output_type": "execute_result"
    }
   ],
   "source": [
    "ld_df.shape"
   ]
  },
  {
   "cell_type": "code",
   "execution_count": 109,
   "metadata": {
    "ExecuteTime": {
     "end_time": "2021-09-29T09:17:28.193941Z",
     "start_time": "2021-09-29T09:17:28.177035Z"
    }
   },
   "outputs": [
    {
     "name": "stdout",
     "output_type": "stream",
     "text": [
      "<class 'pandas.core.frame.DataFrame'>\n",
      "RangeIndex: 11548 entries, 0 to 11547\n",
      "Data columns (total 7 columns):\n",
      " #   Column          Non-Null Count  Dtype \n",
      "---  ------          --------------  ----- \n",
      " 0   Sdelinquent     11548 non-null  int64 \n",
      " 1   term            11548 non-null  object\n",
      " 2   gender          11548 non-null  object\n",
      " 3   purpose         11548 non-null  object\n",
      " 4   home_ownership  11548 non-null  object\n",
      " 5   age             11548 non-null  object\n",
      " 6   FICO            11548 non-null  object\n",
      "dtypes: int64(1), object(6)\n",
      "memory usage: 631.7+ KB\n"
     ]
    }
   ],
   "source": [
    "ld_df.info() "
   ]
  },
  {
   "cell_type": "markdown",
   "metadata": {},
   "source": [
    "many columns are of type object i.e. strings. These need to be converted to ordinal type"
   ]
  },
  {
   "cell_type": "markdown",
   "metadata": {},
   "source": [
    "### Geting unique counts of all Objects"
   ]
  },
  {
   "cell_type": "code",
   "execution_count": 110,
   "metadata": {
    "ExecuteTime": {
     "end_time": "2021-09-29T09:17:30.056744Z",
     "start_time": "2021-09-29T09:17:30.027315Z"
    }
   },
   "outputs": [
    {
     "name": "stdout",
     "output_type": "stream",
     "text": [
      "term \n",
      " 36 months    10589\n",
      "60 months      959\n",
      "Name: term, dtype: int64\n",
      "\n",
      "\n",
      "gender \n",
      " Male      6555\n",
      "Female    4993\n",
      "Name: gender, dtype: int64\n",
      "\n",
      "\n",
      "purpose \n",
      " House       6892\n",
      "Car         2080\n",
      "Other        928\n",
      "Personal     892\n",
      "Wedding      408\n",
      "Medical      266\n",
      "other         82\n",
      "Name: purpose, dtype: int64\n",
      "\n",
      "\n",
      "home_ownership \n",
      " Mortgage    5461\n",
      "Rent        5216\n",
      "Own          871\n",
      "Name: home_ownership, dtype: int64\n",
      "\n",
      "\n",
      "age \n",
      " 20-25    5888\n",
      ">25      5660\n",
      "Name: age, dtype: int64\n",
      "\n",
      "\n",
      "FICO \n",
      " 300-500    6370\n",
      ">500       5178\n",
      "Name: FICO, dtype: int64\n"
     ]
    }
   ],
   "source": [
    "print('term \\n',ld_df.term.value_counts())\n",
    "print('\\n')\n",
    "print('gender \\n',ld_df.gender.value_counts())\n",
    "print('\\n')\n",
    "print('purpose \\n',ld_df.purpose.value_counts())\n",
    "print('\\n')\n",
    "print('home_ownership \\n',ld_df.home_ownership.value_counts())\n",
    "print('\\n')\n",
    "print('age \\n',ld_df.age.value_counts())\n",
    "print('\\n')\n",
    "print('FICO \\n',ld_df.FICO.value_counts())"
   ]
  },
  {
   "cell_type": "code",
   "execution_count": 111,
   "metadata": {
    "ExecuteTime": {
     "end_time": "2021-09-29T09:17:30.591605Z",
     "start_time": "2021-09-29T09:17:30.575607Z"
    }
   },
   "outputs": [],
   "source": [
    "ld_df['purpose'] = ld_df['purpose'].replace(\"other\", \"Other\")"
   ]
  },
  {
   "cell_type": "code",
   "execution_count": 112,
   "metadata": {
    "ExecuteTime": {
     "end_time": "2021-09-29T09:17:31.203492Z",
     "start_time": "2021-09-29T09:17:31.195745Z"
    }
   },
   "outputs": [],
   "source": [
    "import seaborn as sns\n",
    "import matplotlib.pyplot as plt\n",
    "%matplotlib inline"
   ]
  },
  {
   "cell_type": "code",
   "execution_count": 113,
   "metadata": {
    "ExecuteTime": {
     "end_time": "2021-09-29T09:17:31.982866Z",
     "start_time": "2021-09-29T09:17:31.672793Z"
    }
   },
   "outputs": [
    {
     "name": "stderr",
     "output_type": "stream",
     "text": [
      "C:\\Users\\Pradeep Mishra\\anaconda3\\lib\\site-packages\\seaborn\\_decorators.py:36: FutureWarning: Pass the following variable as a keyword arg: x. From version 0.12, the only valid positional argument will be `data`, and passing other arguments without an explicit keyword will result in an error or misinterpretation.\n",
      "  warnings.warn(\n"
     ]
    },
    {
     "data": {
      "image/png": "[encoded data removed]",
      "text/plain": [
       "<Figure size 432x288 with 1 Axes>"
      ]
     },
     "metadata": {
      "needs_background": "light"
     },
     "output_type": "display_data"
    }
   ],
   "source": [
    "sns.countplot(ld_df['FICO'], hue=ld_df['Sdelinquent']);"
   ]
  },
  {
   "cell_type": "code",
   "execution_count": 114,
   "metadata": {
    "ExecuteTime": {
     "end_time": "2021-09-29T09:17:32.564997Z",
     "start_time": "2021-09-29T09:17:32.238375Z"
    }
   },
   "outputs": [
    {
     "data": {
      "text/plain": [
       "<AxesSubplot:xlabel='FICO'>"
      ]
     },
     "execution_count": 114,
     "metadata": {},
     "output_type": "execute_result"
    },
    {
     "data": {
      "image/png": "[encoded data removed]",
      "text/plain": [
       "<Figure size 432x288 with 1 Axes>"
      ]
     },
     "metadata": {
      "needs_background": "light"
     },
     "output_type": "display_data"
    }
   ],
   "source": [
    "pd.crosstab(ld_df['FICO'], ld_df['Sdelinquent'], normalize='index').plot(kind='bar', stacked=True)"
   ]
  },
  {
   "cell_type": "code",
   "execution_count": 115,
   "metadata": {
    "ExecuteTime": {
     "end_time": "2021-09-29T09:17:33.180385Z",
     "start_time": "2021-09-29T09:17:32.845755Z"
    }
   },
   "outputs": [
    {
     "data": {
      "text/plain": [
       "<AxesSubplot:xlabel='term'>"
      ]
     },
     "execution_count": 115,
     "metadata": {},
     "output_type": "execute_result"
    },
    {
     "data": {
      "image/png": "[encoded data removed]",
      "text/plain": [
       "<Figure size 432x288 with 1 Axes>"
      ]
     },
     "metadata": {
      "needs_background": "light"
     },
     "output_type": "display_data"
    }
   ],
   "source": [
    "pd.crosstab(ld_df['term'], ld_df['Sdelinquent'], normalize='index').plot(kind='bar', stacked=True)"
   ]
  },
  {
   "cell_type": "code",
   "execution_count": 116,
   "metadata": {
    "ExecuteTime": {
     "end_time": "2021-09-29T09:17:33.749427Z",
     "start_time": "2021-09-29T09:17:33.405768Z"
    }
   },
   "outputs": [
    {
     "data": {
      "text/plain": [
       "<AxesSubplot:xlabel='age'>"
      ]
     },
     "execution_count": 116,
     "metadata": {},
     "output_type": "execute_result"
    },
    {
     "data": {
      "image/png": "[encoded data removed]",
      "text/plain": [
       "<Figure size 432x288 with 1 Axes>"
      ]
     },
     "metadata": {
      "needs_background": "light"
     },
     "output_type": "display_data"
    }
   ],
   "source": [
    "pd.crosstab(ld_df['age'], ld_df['Sdelinquent'], normalize='index').plot(kind='bar', stacked=True)"
   ]
  },
  {
   "cell_type": "code",
   "execution_count": 117,
   "metadata": {
    "ExecuteTime": {
     "end_time": "2021-09-29T09:17:34.457105Z",
     "start_time": "2021-09-29T09:17:34.061552Z"
    }
   },
   "outputs": [
    {
     "data": {
      "text/plain": [
       "<AxesSubplot:xlabel='purpose'>"
      ]
     },
     "execution_count": 117,
     "metadata": {},
     "output_type": "execute_result"
    },
    {
     "data": {
      "image/png": "[encoded data removed]",
      "text/plain": [
       "<Figure size 432x288 with 1 Axes>"
      ]
     },
     "metadata": {
      "needs_background": "light"
     },
     "output_type": "display_data"
    }
   ],
   "source": [
    "pd.crosstab(ld_df['purpose'], ld_df['Sdelinquent'], normalize='index').plot(kind='bar', stacked=True)"
   ]
  },
  {
   "cell_type": "code",
   "execution_count": 118,
   "metadata": {
    "ExecuteTime": {
     "end_time": "2021-09-29T09:17:35.019841Z",
     "start_time": "2021-09-29T09:17:34.670774Z"
    }
   },
   "outputs": [
    {
     "data": {
      "text/plain": [
       "<AxesSubplot:xlabel='home_ownership'>"
      ]
     },
     "execution_count": 118,
     "metadata": {},
     "output_type": "execute_result"
    },
    {
     "data": {
      "image/png": "[encoded data removed]",
      "text/plain": [
       "<Figure size 432x288 with 1 Axes>"
      ]
     },
     "metadata": {
      "needs_background": "light"
     },
     "output_type": "display_data"
    }
   ],
   "source": [
    "pd.crosstab(ld_df['home_ownership'], ld_df['Sdelinquent'], normalize='index').plot(kind='bar', stacked=True)"
   ]
  },
  {
   "cell_type": "code",
   "execution_count": 119,
   "metadata": {
    "ExecuteTime": {
     "end_time": "2021-09-29T09:17:35.585039Z",
     "start_time": "2021-09-29T09:17:35.263372Z"
    }
   },
   "outputs": [
    {
     "data": {
      "text/plain": [
       "<AxesSubplot:xlabel='gender'>"
      ]
     },
     "execution_count": 119,
     "metadata": {},
     "output_type": "execute_result"
    },
    {
     "data": {
      "image/png": "[encoded data removed]",
      "text/plain": [
       "<Figure size 432x288 with 1 Axes>"
      ]
     },
     "metadata": {
      "needs_background": "light"
     },
     "output_type": "display_data"
    }
   ],
   "source": [
    "pd.crosstab(ld_df['gender'], ld_df['Sdelinquent'], normalize='index').plot(kind='bar', stacked=True)"
   ]
  },
  {
   "cell_type": "markdown",
   "metadata": {},
   "source": [
    "### Note:\n",
    "Decision tree in Python can take only numerical / categorical colums. It cannot take string / object types. \n",
    "\n",
    "The following code loops through each column and checks if the column type is object then converts those columns into categorical with each distinct value becoming a category."
   ]
  },
  {
   "cell_type": "code",
   "execution_count": 120,
   "metadata": {
    "ExecuteTime": {
     "end_time": "2021-09-29T09:17:36.422477Z",
     "start_time": "2021-09-29T09:17:36.378556Z"
    }
   },
   "outputs": [
    {
     "name": "stdout",
     "output_type": "stream",
     "text": [
      "\n",
      "\n",
      "feature: term\n",
      "['36 months', '60 months']\n",
      "Categories (2, object): ['36 months', '60 months']\n",
      "[0 1]\n",
      "\n",
      "\n",
      "feature: gender\n",
      "['Female', 'Male']\n",
      "Categories (2, object): ['Female', 'Male']\n",
      "[0 1]\n",
      "\n",
      "\n",
      "feature: purpose\n",
      "['House', 'Car', 'Other', 'Personal', 'Wedding', 'Medical']\n",
      "Categories (6, object): ['Car', 'House', 'Medical', 'Other', 'Personal', 'Wedding']\n",
      "[1 0 3 4 5 2]\n",
      "\n",
      "\n",
      "feature: home_ownership\n",
      "['Mortgage', 'Rent', 'Own']\n",
      "Categories (3, object): ['Mortgage', 'Own', 'Rent']\n",
      "[0 2 1]\n",
      "\n",
      "\n",
      "feature: age\n",
      "['>25', '20-25']\n",
      "Categories (2, object): ['20-25', '>25']\n",
      "[1 0]\n",
      "\n",
      "\n",
      "feature: FICO\n",
      "['300-500', '>500']\n",
      "Categories (2, object): ['300-500', '>500']\n",
      "[0 1]\n"
     ]
    }
   ],
   "source": [
    "for feature in ld_df.columns: \n",
    "    if ld_df[feature].dtype == 'object': \n",
    "        print('\\n')\n",
    "        print('feature:',feature)\n",
    "        print(pd.Categorical(ld_df[feature].unique()))\n",
    "        print(pd.Categorical(ld_df[feature].unique()).codes)\n",
    "        ld_df[feature] = pd.Categorical(ld_df[feature]).codes"
   ]
  },
  {
   "cell_type": "code",
   "execution_count": 121,
   "metadata": {
    "ExecuteTime": {
     "end_time": "2021-09-29T09:17:37.039191Z",
     "start_time": "2021-09-29T09:17:37.014643Z"
    }
   },
   "outputs": [
    {
     "name": "stdout",
     "output_type": "stream",
     "text": [
      "<class 'pandas.core.frame.DataFrame'>\n",
      "RangeIndex: 11548 entries, 0 to 11547\n",
      "Data columns (total 7 columns):\n",
      " #   Column          Non-Null Count  Dtype\n",
      "---  ------          --------------  -----\n",
      " 0   Sdelinquent     11548 non-null  int64\n",
      " 1   term            11548 non-null  int8 \n",
      " 2   gender          11548 non-null  int8 \n",
      " 3   purpose         11548 non-null  int8 \n",
      " 4   home_ownership  11548 non-null  int8 \n",
      " 5   age             11548 non-null  int8 \n",
      " 6   FICO            11548 non-null  int8 \n",
      "dtypes: int64(1), int8(6)\n",
      "memory usage: 158.0 KB\n"
     ]
    }
   ],
   "source": [
    "ld_df.info()"
   ]
  },
  {
   "cell_type": "code",
   "execution_count": 122,
   "metadata": {
    "ExecuteTime": {
     "end_time": "2021-09-29T09:17:38.600931Z",
     "start_time": "2021-09-29T09:17:37.533052Z"
    }
   },
   "outputs": [
    {
     "data": {
      "text/plain": [
       "<AxesSubplot:>"
      ]
     },
     "execution_count": 122,
     "metadata": {},
     "output_type": "execute_result"
    },
    {
     "data": {
      "image/png": "[encoded data removed]",
      "text/plain": [
       "<Figure size 1080x432 with 2 Axes>"
      ]
     },
     "metadata": {
      "needs_background": "light"
     },
     "output_type": "display_data"
    }
   ],
   "source": [
    "plt.figure(figsize=(15,6))\n",
    "sns.heatmap(ld_df.corr(), annot=True)"
   ]
  },
  {
   "cell_type": "markdown",
   "metadata": {},
   "source": [
    "For each feature, look at the 2nd and 4th row to get the encoding mappings. Do not look at the line starting with 'Categories'"
   ]
  },
  {
   "cell_type": "markdown",
   "metadata": {},
   "source": [
    "#### Comparing the unique counts from above"
   ]
  },
  {
   "cell_type": "code",
   "execution_count": 123,
   "metadata": {
    "ExecuteTime": {
     "end_time": "2021-09-29T09:17:39.878226Z",
     "start_time": "2021-09-29T09:17:39.851714Z"
    }
   },
   "outputs": [
    {
     "name": "stdout",
     "output_type": "stream",
     "text": [
      "term \n",
      " 0    10589\n",
      "1      959\n",
      "Name: term, dtype: int64\n",
      "\n",
      "\n",
      "gender \n",
      " 1    6555\n",
      "0    4993\n",
      "Name: gender, dtype: int64\n",
      "\n",
      "\n",
      "purpose \n",
      " 1    6892\n",
      "0    2080\n",
      "3    1010\n",
      "4     892\n",
      "5     408\n",
      "2     266\n",
      "Name: purpose, dtype: int64\n",
      "\n",
      "\n",
      "home_ownership \n",
      " 0    5461\n",
      "2    5216\n",
      "1     871\n",
      "Name: home_ownership, dtype: int64\n",
      "\n",
      "\n",
      "age \n",
      " 0    5888\n",
      "1    5660\n",
      "Name: age, dtype: int64\n",
      "\n",
      "\n",
      "FICO \n",
      " 0    6370\n",
      "1    5178\n",
      "Name: FICO, dtype: int64\n"
     ]
    }
   ],
   "source": [
    "print('term \\n',ld_df.term.value_counts())\n",
    "print('\\n')\n",
    "print('gender \\n',ld_df.gender.value_counts())\n",
    "print('\\n')\n",
    "print('purpose \\n',ld_df.purpose.value_counts())\n",
    "print('\\n')\n",
    "print('home_ownership \\n',ld_df.home_ownership.value_counts())\n",
    "print('\\n')\n",
    "print('age \\n',ld_df.age.value_counts())\n",
    "print('\\n')\n",
    "print('FICO \\n',ld_df.FICO.value_counts())"
   ]
  },
  {
   "cell_type": "code",
   "execution_count": 124,
   "metadata": {
    "ExecuteTime": {
     "end_time": "2021-09-29T09:17:40.462925Z",
     "start_time": "2021-09-29T09:17:40.451602Z"
    }
   },
   "outputs": [
    {
     "name": "stdout",
     "output_type": "stream",
     "text": [
      "<class 'pandas.core.frame.DataFrame'>\n",
      "RangeIndex: 11548 entries, 0 to 11547\n",
      "Data columns (total 7 columns):\n",
      " #   Column          Non-Null Count  Dtype\n",
      "---  ------          --------------  -----\n",
      " 0   Sdelinquent     11548 non-null  int64\n",
      " 1   term            11548 non-null  int8 \n",
      " 2   gender          11548 non-null  int8 \n",
      " 3   purpose         11548 non-null  int8 \n",
      " 4   home_ownership  11548 non-null  int8 \n",
      " 5   age             11548 non-null  int8 \n",
      " 6   FICO            11548 non-null  int8 \n",
      "dtypes: int64(1), int8(6)\n",
      "memory usage: 158.0 KB\n"
     ]
    }
   ],
   "source": [
    "ld_df.info()"
   ]
  },
  {
   "cell_type": "code",
   "execution_count": 125,
   "metadata": {
    "ExecuteTime": {
     "end_time": "2021-09-29T09:17:41.380831Z",
     "start_time": "2021-09-29T09:17:41.365869Z"
    }
   },
   "outputs": [
    {
     "data": {
      "text/html": [
       "<div>\n",
       "<style scoped>\n",
       "    .dataframe tbody tr th:only-of-type {\n",
       "        vertical-align: middle;\n",
       "    }\n",
       "\n",
       "    .dataframe tbody tr th {\n",
       "        vertical-align: top;\n",
       "    }\n",
       "\n",
       "    .dataframe thead th {\n",
       "        text-align: right;\n",
       "    }\n",
       "</style>\n",
       "<table border=\"1\" class=\"dataframe\">\n",
       "  <thead>\n",
       "    <tr style=\"text-align: right;\">\n",
       "      <th></th>\n",
       "      <th>Sdelinquent</th>\n",
       "      <th>term</th>\n",
       "      <th>gender</th>\n",
       "      <th>purpose</th>\n",
       "      <th>home_ownership</th>\n",
       "      <th>age</th>\n",
       "      <th>FICO</th>\n",
       "    </tr>\n",
       "  </thead>\n",
       "  <tbody>\n",
       "    <tr>\n",
       "      <th>0</th>\n",
       "      <td>1</td>\n",
       "      <td>0</td>\n",
       "      <td>0</td>\n",
       "      <td>1</td>\n",
       "      <td>0</td>\n",
       "      <td>1</td>\n",
       "      <td>0</td>\n",
       "    </tr>\n",
       "    <tr>\n",
       "      <th>1</th>\n",
       "      <td>0</td>\n",
       "      <td>0</td>\n",
       "      <td>0</td>\n",
       "      <td>1</td>\n",
       "      <td>2</td>\n",
       "      <td>0</td>\n",
       "      <td>1</td>\n",
       "    </tr>\n",
       "    <tr>\n",
       "      <th>2</th>\n",
       "      <td>1</td>\n",
       "      <td>0</td>\n",
       "      <td>0</td>\n",
       "      <td>1</td>\n",
       "      <td>2</td>\n",
       "      <td>1</td>\n",
       "      <td>0</td>\n",
       "    </tr>\n",
       "    <tr>\n",
       "      <th>3</th>\n",
       "      <td>1</td>\n",
       "      <td>0</td>\n",
       "      <td>0</td>\n",
       "      <td>0</td>\n",
       "      <td>0</td>\n",
       "      <td>1</td>\n",
       "      <td>0</td>\n",
       "    </tr>\n",
       "    <tr>\n",
       "      <th>4</th>\n",
       "      <td>1</td>\n",
       "      <td>0</td>\n",
       "      <td>0</td>\n",
       "      <td>1</td>\n",
       "      <td>2</td>\n",
       "      <td>1</td>\n",
       "      <td>0</td>\n",
       "    </tr>\n",
       "  </tbody>\n",
       "</table>\n",
       "</div>"
      ],
      "text/plain": [
       "   Sdelinquent  term  gender  purpose  home_ownership  age  FICO\n",
       "0            1     0       0        1               0    1     0\n",
       "1            0     0       0        1               2    0     1\n",
       "2            1     0       0        1               2    1     0\n",
       "3            1     0       0        0               0    1     0\n",
       "4            1     0       0        1               2    1     0"
      ]
     },
     "execution_count": 125,
     "metadata": {},
     "output_type": "execute_result"
    }
   ],
   "source": [
    "ld_df.head()"
   ]
  },
  {
   "cell_type": "markdown",
   "metadata": {},
   "source": [
    "Label Encoding has been done and all columns are converted to number"
   ]
  },
  {
   "cell_type": "markdown",
   "metadata": {},
   "source": [
    "### Proportion of 1s and 0s"
   ]
  },
  {
   "cell_type": "code",
   "execution_count": 126,
   "metadata": {
    "ExecuteTime": {
     "end_time": "2021-09-29T09:17:43.255245Z",
     "start_time": "2021-09-29T09:17:43.247314Z"
    }
   },
   "outputs": [
    {
     "data": {
      "text/plain": [
       "1    0.668601\n",
       "0    0.331399\n",
       "Name: Sdelinquent, dtype: float64"
      ]
     },
     "execution_count": 126,
     "metadata": {},
     "output_type": "execute_result"
    }
   ],
   "source": [
    "ld_df.Sdelinquent.value_counts(normalize=True)"
   ]
  },
  {
   "cell_type": "code",
   "execution_count": 127,
   "metadata": {
    "ExecuteTime": {
     "end_time": "2021-09-29T09:17:43.829820Z",
     "start_time": "2021-09-29T09:17:43.817163Z"
    }
   },
   "outputs": [],
   "source": [
    "# Data Balance : 90:10\n",
    "# If we increase minority - Oversampling (SMOTE)\n",
    "# If we reduce majority - Undersampling"
   ]
  },
  {
   "cell_type": "code",
   "execution_count": 128,
   "metadata": {
    "ExecuteTime": {
     "end_time": "2021-09-29T09:17:44.445491Z",
     "start_time": "2021-09-29T09:17:44.433807Z"
    }
   },
   "outputs": [
    {
     "name": "stdout",
     "output_type": "stream",
     "text": [
      "1    7721\n",
      "0    3827\n",
      "Name: Sdelinquent, dtype: int64\n",
      "%1s 0.668600623484586\n",
      "%0s 0.3313993765154139\n"
     ]
    }
   ],
   "source": [
    "print(ld_df.Sdelinquent.value_counts())\n",
    "print('%1s',7721/(7721+3827))\n",
    "print('%0s',3827/(7721+3827))"
   ]
  },
  {
   "cell_type": "markdown",
   "metadata": {},
   "source": [
    "### Extracting the target column into separate vectors for training set and test set"
   ]
  },
  {
   "cell_type": "code",
   "execution_count": 129,
   "metadata": {
    "ExecuteTime": {
     "end_time": "2021-09-29T09:17:45.671513Z",
     "start_time": "2021-09-29T09:17:45.650053Z"
    }
   },
   "outputs": [
    {
     "data": {
      "text/html": [
       "<div>\n",
       "<style scoped>\n",
       "    .dataframe tbody tr th:only-of-type {\n",
       "        vertical-align: middle;\n",
       "    }\n",
       "\n",
       "    .dataframe tbody tr th {\n",
       "        vertical-align: top;\n",
       "    }\n",
       "\n",
       "    .dataframe thead th {\n",
       "        text-align: right;\n",
       "    }\n",
       "</style>\n",
       "<table border=\"1\" class=\"dataframe\">\n",
       "  <thead>\n",
       "    <tr style=\"text-align: right;\">\n",
       "      <th></th>\n",
       "      <th>term</th>\n",
       "      <th>gender</th>\n",
       "      <th>purpose</th>\n",
       "      <th>home_ownership</th>\n",
       "      <th>age</th>\n",
       "      <th>FICO</th>\n",
       "    </tr>\n",
       "  </thead>\n",
       "  <tbody>\n",
       "    <tr>\n",
       "      <th>0</th>\n",
       "      <td>0</td>\n",
       "      <td>0</td>\n",
       "      <td>1</td>\n",
       "      <td>0</td>\n",
       "      <td>1</td>\n",
       "      <td>0</td>\n",
       "    </tr>\n",
       "    <tr>\n",
       "      <th>1</th>\n",
       "      <td>0</td>\n",
       "      <td>0</td>\n",
       "      <td>1</td>\n",
       "      <td>2</td>\n",
       "      <td>0</td>\n",
       "      <td>1</td>\n",
       "    </tr>\n",
       "    <tr>\n",
       "      <th>2</th>\n",
       "      <td>0</td>\n",
       "      <td>0</td>\n",
       "      <td>1</td>\n",
       "      <td>2</td>\n",
       "      <td>1</td>\n",
       "      <td>0</td>\n",
       "    </tr>\n",
       "    <tr>\n",
       "      <th>3</th>\n",
       "      <td>0</td>\n",
       "      <td>0</td>\n",
       "      <td>0</td>\n",
       "      <td>0</td>\n",
       "      <td>1</td>\n",
       "      <td>0</td>\n",
       "    </tr>\n",
       "    <tr>\n",
       "      <th>4</th>\n",
       "      <td>0</td>\n",
       "      <td>0</td>\n",
       "      <td>1</td>\n",
       "      <td>2</td>\n",
       "      <td>1</td>\n",
       "      <td>0</td>\n",
       "    </tr>\n",
       "  </tbody>\n",
       "</table>\n",
       "</div>"
      ],
      "text/plain": [
       "   term  gender  purpose  home_ownership  age  FICO\n",
       "0     0       0        1               0    1     0\n",
       "1     0       0        1               2    0     1\n",
       "2     0       0        1               2    1     0\n",
       "3     0       0        0               0    1     0\n",
       "4     0       0        1               2    1     0"
      ]
     },
     "execution_count": 129,
     "metadata": {},
     "output_type": "execute_result"
    }
   ],
   "source": [
    "X = ld_df.drop(\"Sdelinquent\", axis=1)\n",
    "\n",
    "y = ld_df.pop(\"Sdelinquent\")\n",
    "#y = ld_df['Sdelinquent']\n",
    "\n",
    "X.head()"
   ]
  },
  {
   "cell_type": "markdown",
   "metadata": {},
   "source": [
    "### Splitting data into training and test set"
   ]
  },
  {
   "cell_type": "code",
   "execution_count": 130,
   "metadata": {
    "ExecuteTime": {
     "end_time": "2021-09-29T09:17:48.146464Z",
     "start_time": "2021-09-29T09:17:48.133101Z"
    }
   },
   "outputs": [],
   "source": [
    "from sklearn.model_selection import train_test_split\n",
    "\n",
    "X_train, X_test, train_labels, test_labels = train_test_split(X, y, test_size=.30, random_state=1)"
   ]
  },
  {
   "cell_type": "markdown",
   "metadata": {},
   "source": [
    "### Checking the dimensions of the training and test data"
   ]
  },
  {
   "cell_type": "code",
   "execution_count": 131,
   "metadata": {
    "ExecuteTime": {
     "end_time": "2021-09-29T09:17:49.513048Z",
     "start_time": "2021-09-29T09:17:49.503274Z"
    }
   },
   "outputs": [
    {
     "name": "stdout",
     "output_type": "stream",
     "text": [
      "X_train (8083, 6)\n",
      "X_test (3465, 6)\n",
      "train_labels (8083,)\n",
      "test_labels (3465,)\n",
      "Total Obs 11548\n"
     ]
    }
   ],
   "source": [
    "print('X_train',X_train.shape)\n",
    "print('X_test',X_test.shape)\n",
    "print('train_labels',train_labels.shape)\n",
    "print('test_labels',test_labels.shape)\n",
    "print('Total Obs', ld_df.shape[0])"
   ]
  },
  {
   "cell_type": "code",
   "execution_count": 132,
   "metadata": {
    "ExecuteTime": {
     "end_time": "2021-09-29T09:17:49.940666Z",
     "start_time": "2021-09-29T09:17:49.932157Z"
    }
   },
   "outputs": [
    {
     "data": {
      "text/plain": [
       "4518"
      ]
     },
     "execution_count": 132,
     "metadata": {},
     "output_type": "execute_result"
    }
   ],
   "source": [
    "(X_train['FICO']<=0.5).sum()"
   ]
  },
  {
   "cell_type": "code",
   "execution_count": 133,
   "metadata": {
    "ExecuteTime": {
     "end_time": "2021-09-29T09:17:50.614363Z",
     "start_time": "2021-09-29T09:17:50.589696Z"
    }
   },
   "outputs": [
    {
     "data": {
      "text/html": [
       "<div>\n",
       "<style scoped>\n",
       "    .dataframe tbody tr th:only-of-type {\n",
       "        vertical-align: middle;\n",
       "    }\n",
       "\n",
       "    .dataframe tbody tr th {\n",
       "        vertical-align: top;\n",
       "    }\n",
       "\n",
       "    .dataframe thead th {\n",
       "        text-align: right;\n",
       "    }\n",
       "</style>\n",
       "<table border=\"1\" class=\"dataframe\">\n",
       "  <thead>\n",
       "    <tr style=\"text-align: right;\">\n",
       "      <th></th>\n",
       "      <th>term</th>\n",
       "      <th>gender</th>\n",
       "      <th>purpose</th>\n",
       "      <th>home_ownership</th>\n",
       "      <th>age</th>\n",
       "      <th>FICO</th>\n",
       "    </tr>\n",
       "  </thead>\n",
       "  <tbody>\n",
       "    <tr>\n",
       "      <th>9285</th>\n",
       "      <td>1</td>\n",
       "      <td>1</td>\n",
       "      <td>3</td>\n",
       "      <td>2</td>\n",
       "      <td>1</td>\n",
       "      <td>0</td>\n",
       "    </tr>\n",
       "    <tr>\n",
       "      <th>1749</th>\n",
       "      <td>1</td>\n",
       "      <td>1</td>\n",
       "      <td>1</td>\n",
       "      <td>2</td>\n",
       "      <td>1</td>\n",
       "      <td>0</td>\n",
       "    </tr>\n",
       "    <tr>\n",
       "      <th>5515</th>\n",
       "      <td>1</td>\n",
       "      <td>1</td>\n",
       "      <td>1</td>\n",
       "      <td>0</td>\n",
       "      <td>1</td>\n",
       "      <td>0</td>\n",
       "    </tr>\n",
       "    <tr>\n",
       "      <th>6052</th>\n",
       "      <td>1</td>\n",
       "      <td>1</td>\n",
       "      <td>3</td>\n",
       "      <td>0</td>\n",
       "      <td>1</td>\n",
       "      <td>0</td>\n",
       "    </tr>\n",
       "    <tr>\n",
       "      <th>9371</th>\n",
       "      <td>1</td>\n",
       "      <td>1</td>\n",
       "      <td>1</td>\n",
       "      <td>2</td>\n",
       "      <td>1</td>\n",
       "      <td>0</td>\n",
       "    </tr>\n",
       "    <tr>\n",
       "      <th>...</th>\n",
       "      <td>...</td>\n",
       "      <td>...</td>\n",
       "      <td>...</td>\n",
       "      <td>...</td>\n",
       "      <td>...</td>\n",
       "      <td>...</td>\n",
       "    </tr>\n",
       "    <tr>\n",
       "      <th>1996</th>\n",
       "      <td>1</td>\n",
       "      <td>1</td>\n",
       "      <td>1</td>\n",
       "      <td>0</td>\n",
       "      <td>1</td>\n",
       "      <td>0</td>\n",
       "    </tr>\n",
       "    <tr>\n",
       "      <th>668</th>\n",
       "      <td>1</td>\n",
       "      <td>1</td>\n",
       "      <td>1</td>\n",
       "      <td>2</td>\n",
       "      <td>1</td>\n",
       "      <td>0</td>\n",
       "    </tr>\n",
       "    <tr>\n",
       "      <th>5423</th>\n",
       "      <td>1</td>\n",
       "      <td>1</td>\n",
       "      <td>1</td>\n",
       "      <td>2</td>\n",
       "      <td>1</td>\n",
       "      <td>0</td>\n",
       "    </tr>\n",
       "    <tr>\n",
       "      <th>11430</th>\n",
       "      <td>1</td>\n",
       "      <td>1</td>\n",
       "      <td>3</td>\n",
       "      <td>2</td>\n",
       "      <td>1</td>\n",
       "      <td>0</td>\n",
       "    </tr>\n",
       "    <tr>\n",
       "      <th>8444</th>\n",
       "      <td>1</td>\n",
       "      <td>1</td>\n",
       "      <td>1</td>\n",
       "      <td>0</td>\n",
       "      <td>1</td>\n",
       "      <td>0</td>\n",
       "    </tr>\n",
       "  </tbody>\n",
       "</table>\n",
       "<p>224 rows × 6 columns</p>\n",
       "</div>"
      ],
      "text/plain": [
       "       term  gender  purpose  home_ownership  age  FICO\n",
       "9285      1       1        3               2    1     0\n",
       "1749      1       1        1               2    1     0\n",
       "5515      1       1        1               0    1     0\n",
       "6052      1       1        3               0    1     0\n",
       "9371      1       1        1               2    1     0\n",
       "...     ...     ...      ...             ...  ...   ...\n",
       "1996      1       1        1               0    1     0\n",
       "668       1       1        1               2    1     0\n",
       "5423      1       1        1               2    1     0\n",
       "11430     1       1        3               2    1     0\n",
       "8444      1       1        1               0    1     0\n",
       "\n",
       "[224 rows x 6 columns]"
      ]
     },
     "execution_count": 133,
     "metadata": {},
     "output_type": "execute_result"
    }
   ],
   "source": [
    "X_train[((X_train['FICO']<=0.5) & (X_train['term']>0.5))]"
   ]
  },
  {
   "cell_type": "markdown",
   "metadata": {},
   "source": [
    "### Building a Decision Tree Classifier"
   ]
  },
  {
   "cell_type": "code",
   "execution_count": 134,
   "metadata": {
    "ExecuteTime": {
     "end_time": "2021-09-29T09:17:51.894232Z",
     "start_time": "2021-09-29T09:17:51.887827Z"
    }
   },
   "outputs": [],
   "source": [
    "# Initialise a Decision Tree Classifier\n",
    "dt_model = DecisionTreeClassifier(criterion = 'gini') #entropy"
   ]
  },
  {
   "cell_type": "code",
   "execution_count": 135,
   "metadata": {
    "ExecuteTime": {
     "end_time": "2021-09-29T09:17:52.490738Z",
     "start_time": "2021-09-29T09:17:52.476851Z"
    },
    "scrolled": true
   },
   "outputs": [
    {
     "data": {
      "text/plain": [
       "DecisionTreeClassifier()"
      ]
     },
     "execution_count": 135,
     "metadata": {},
     "output_type": "execute_result"
    }
   ],
   "source": [
    "# Fit the model\n",
    "dt_model.fit(X_train, train_labels)"
   ]
  },
  {
   "cell_type": "code",
   "execution_count": 136,
   "metadata": {
    "ExecuteTime": {
     "end_time": "2021-09-29T09:17:53.162108Z",
     "start_time": "2021-09-29T09:17:53.109392Z"
    }
   },
   "outputs": [],
   "source": [
    "from sklearn import tree\n",
    "\n",
    "train_char_label = ['No', 'Yes']\n",
    "ld_Tree_File = open('ld_Tree_File.dot','w')\n",
    "dot_data = tree.export_graphviz(dt_model, \n",
    "                                out_file=ld_Tree_File, \n",
    "                                feature_names = list(X_train), \n",
    "                                class_names = list(train_char_label))\n",
    "\n",
    "ld_Tree_File.close()\n"
   ]
  },
  {
   "cell_type": "markdown",
   "metadata": {},
   "source": [
    "The above code will save a .dot file in your working directory.  \n",
    "WebGraphviz is Graphviz in the Browser.   \n",
    "Copy paste the contents of the file into the link below to get the visualization     \n",
    "http://webgraphviz.com/"
   ]
  },
  {
   "cell_type": "markdown",
   "metadata": {},
   "source": [
    "### Variable Importance"
   ]
  },
  {
   "cell_type": "code",
   "execution_count": 137,
   "metadata": {
    "ExecuteTime": {
     "end_time": "2021-09-29T09:17:54.940086Z",
     "start_time": "2021-09-29T09:17:54.924172Z"
    }
   },
   "outputs": [
    {
     "name": "stdout",
     "output_type": "stream",
     "text": [
      "                     Imp\n",
      "FICO            0.393915\n",
      "term            0.370052\n",
      "gender          0.158664\n",
      "age             0.055813\n",
      "purpose         0.010924\n",
      "home_ownership  0.010633\n"
     ]
    }
   ],
   "source": [
    "print (pd.DataFrame(dt_model.feature_importances_, columns = [\"Imp\"], index = X_train.columns).sort_values('Imp',ascending=False))\n"
   ]
  },
  {
   "cell_type": "code",
   "execution_count": 138,
   "metadata": {
    "ExecuteTime": {
     "end_time": "2021-09-29T09:17:55.745576Z",
     "start_time": "2021-09-29T09:17:55.741717Z"
    }
   },
   "outputs": [],
   "source": [
    "# Streaming Analytics"
   ]
  },
  {
   "cell_type": "markdown",
   "metadata": {},
   "source": [
    "### Predicting Test Data"
   ]
  },
  {
   "cell_type": "code",
   "execution_count": 139,
   "metadata": {
    "ExecuteTime": {
     "end_time": "2021-09-29T09:18:01.708502Z",
     "start_time": "2021-09-29T09:18:01.693003Z"
    }
   },
   "outputs": [
    {
     "name": "stdout",
     "output_type": "stream",
     "text": [
      "[1 1 0 ... 1 1 1]\n"
     ]
    },
    {
     "data": {
      "text/html": [
       "<div>\n",
       "<style scoped>\n",
       "    .dataframe tbody tr th:only-of-type {\n",
       "        vertical-align: middle;\n",
       "    }\n",
       "\n",
       "    .dataframe tbody tr th {\n",
       "        vertical-align: top;\n",
       "    }\n",
       "\n",
       "    .dataframe thead th {\n",
       "        text-align: right;\n",
       "    }\n",
       "</style>\n",
       "<table border=\"1\" class=\"dataframe\">\n",
       "  <thead>\n",
       "    <tr style=\"text-align: right;\">\n",
       "      <th></th>\n",
       "      <th>0</th>\n",
       "      <th>1</th>\n",
       "    </tr>\n",
       "  </thead>\n",
       "  <tbody>\n",
       "    <tr>\n",
       "      <th>0</th>\n",
       "      <td>0.133791</td>\n",
       "      <td>0.866209</td>\n",
       "    </tr>\n",
       "    <tr>\n",
       "      <th>1</th>\n",
       "      <td>0.000000</td>\n",
       "      <td>1.000000</td>\n",
       "    </tr>\n",
       "    <tr>\n",
       "      <th>2</th>\n",
       "      <td>0.783465</td>\n",
       "      <td>0.216535</td>\n",
       "    </tr>\n",
       "    <tr>\n",
       "      <th>3</th>\n",
       "      <td>0.753846</td>\n",
       "      <td>0.246154</td>\n",
       "    </tr>\n",
       "    <tr>\n",
       "      <th>4</th>\n",
       "      <td>0.131148</td>\n",
       "      <td>0.868852</td>\n",
       "    </tr>\n",
       "    <tr>\n",
       "      <th>...</th>\n",
       "      <td>...</td>\n",
       "      <td>...</td>\n",
       "    </tr>\n",
       "    <tr>\n",
       "      <th>3460</th>\n",
       "      <td>0.153846</td>\n",
       "      <td>0.846154</td>\n",
       "    </tr>\n",
       "    <tr>\n",
       "      <th>3461</th>\n",
       "      <td>0.133791</td>\n",
       "      <td>0.866209</td>\n",
       "    </tr>\n",
       "    <tr>\n",
       "      <th>3462</th>\n",
       "      <td>0.000000</td>\n",
       "      <td>1.000000</td>\n",
       "    </tr>\n",
       "    <tr>\n",
       "      <th>3463</th>\n",
       "      <td>0.158879</td>\n",
       "      <td>0.841121</td>\n",
       "    </tr>\n",
       "    <tr>\n",
       "      <th>3464</th>\n",
       "      <td>0.173913</td>\n",
       "      <td>0.826087</td>\n",
       "    </tr>\n",
       "  </tbody>\n",
       "</table>\n",
       "<p>3465 rows × 2 columns</p>\n",
       "</div>"
      ],
      "text/plain": [
       "             0         1\n",
       "0     0.133791  0.866209\n",
       "1     0.000000  1.000000\n",
       "2     0.783465  0.216535\n",
       "3     0.753846  0.246154\n",
       "4     0.131148  0.868852\n",
       "...        ...       ...\n",
       "3460  0.153846  0.846154\n",
       "3461  0.133791  0.866209\n",
       "3462  0.000000  1.000000\n",
       "3463  0.158879  0.841121\n",
       "3464  0.173913  0.826087\n",
       "\n",
       "[3465 rows x 2 columns]"
      ]
     },
     "execution_count": 139,
     "metadata": {},
     "output_type": "execute_result"
    }
   ],
   "source": [
    "y_predict = dt_model.predict(X_test)    # Class Prediction\n",
    "y_predict_prob = dt_model.predict_proba(X_test)   # Prob Prediction\n",
    "print(y_predict)\n",
    "pd.DataFrame(y_predict_prob)"
   ]
  },
  {
   "cell_type": "code",
   "execution_count": 140,
   "metadata": {
    "ExecuteTime": {
     "end_time": "2021-09-29T09:18:02.386762Z",
     "start_time": "2021-09-29T09:18:02.374814Z"
    }
   },
   "outputs": [],
   "source": [
    "from sklearn.metrics import classification_report, confusion_matrix, plot_confusion_matrix"
   ]
  },
  {
   "cell_type": "code",
   "execution_count": 141,
   "metadata": {
    "ExecuteTime": {
     "end_time": "2021-09-29T09:18:10.020881Z",
     "start_time": "2021-09-29T09:18:10.000143Z"
    }
   },
   "outputs": [
    {
     "data": {
      "text/plain": [
       "array([[ 903,  289],\n",
       "       [ 241, 2032]], dtype=int64)"
      ]
     },
     "execution_count": 141,
     "metadata": {},
     "output_type": "execute_result"
    }
   ],
   "source": [
    "confusion_matrix(test_labels, y_predict)"
   ]
  },
  {
   "cell_type": "code",
   "execution_count": 142,
   "metadata": {
    "ExecuteTime": {
     "end_time": "2021-09-29T09:18:52.624972Z",
     "start_time": "2021-09-29T09:18:52.263439Z"
    }
   },
   "outputs": [
    {
     "data": {
      "text/plain": [
       "<sklearn.metrics._plot.confusion_matrix.ConfusionMatrixDisplay at 0x1e05a6cbd30>"
      ]
     },
     "execution_count": 142,
     "metadata": {},
     "output_type": "execute_result"
    },
    {
     "data": {
      "image/png": "[encoded data removed]",
      "text/plain": [
       "<Figure size 432x288 with 2 Axes>"
      ]
     },
     "metadata": {
      "needs_background": "light"
     },
     "output_type": "display_data"
    }
   ],
   "source": [
    "plot_confusion_matrix(dt_model, X_test, test_labels)"
   ]
  },
  {
   "cell_type": "code",
   "execution_count": 143,
   "metadata": {
    "ExecuteTime": {
     "end_time": "2021-09-29T09:18:56.768575Z",
     "start_time": "2021-09-29T09:18:56.752908Z"
    }
   },
   "outputs": [
    {
     "data": {
      "text/plain": [
       "1    0.655988\n",
       "0    0.344012\n",
       "Name: Sdelinquent, dtype: float64"
      ]
     },
     "execution_count": 143,
     "metadata": {},
     "output_type": "execute_result"
    }
   ],
   "source": [
    "test_labels.value_counts(normalize=True)"
   ]
  },
  {
   "cell_type": "code",
   "execution_count": 144,
   "metadata": {
    "ExecuteTime": {
     "end_time": "2021-09-29T09:18:57.448622Z",
     "start_time": "2021-09-29T09:18:57.421450Z"
    }
   },
   "outputs": [
    {
     "name": "stdout",
     "output_type": "stream",
     "text": [
      "              precision    recall  f1-score   support\n",
      "\n",
      "           0       0.79      0.76      0.77      1192\n",
      "           1       0.88      0.89      0.88      2273\n",
      "\n",
      "    accuracy                           0.85      3465\n",
      "   macro avg       0.83      0.83      0.83      3465\n",
      "weighted avg       0.85      0.85      0.85      3465\n",
      "\n"
     ]
    }
   ],
   "source": [
    "print(classification_report(test_labels, y_predict))"
   ]
  },
  {
   "cell_type": "code",
   "execution_count": 145,
   "metadata": {
    "ExecuteTime": {
     "end_time": "2021-09-29T09:18:58.130085Z",
     "start_time": "2021-09-29T09:18:58.090396Z"
    }
   },
   "outputs": [
    {
     "name": "stdout",
     "output_type": "stream",
     "text": [
      "              precision    recall  f1-score   support\n",
      "\n",
      "           0       0.79      0.74      0.77      2635\n",
      "           1       0.88      0.91      0.89      5448\n",
      "\n",
      "    accuracy                           0.85      8083\n",
      "   macro avg       0.84      0.82      0.83      8083\n",
      "weighted avg       0.85      0.85      0.85      8083\n",
      "\n"
     ]
    }
   ],
   "source": [
    "train_predict = dt_model.predict(X_train)\n",
    "print(classification_report(train_labels, train_predict))"
   ]
  },
  {
   "cell_type": "code",
   "execution_count": 146,
   "metadata": {
    "ExecuteTime": {
     "end_time": "2021-09-29T09:19:00.111754Z",
     "start_time": "2021-09-29T09:19:00.105242Z"
    }
   },
   "outputs": [
    {
     "data": {
      "text/plain": [
       "10"
      ]
     },
     "execution_count": 146,
     "metadata": {},
     "output_type": "execute_result"
    }
   ],
   "source": [
    "dt_model.get_depth()"
   ]
  },
  {
   "cell_type": "markdown",
   "metadata": {},
   "source": [
    "# Regularising the Decision Tree"
   ]
  },
  {
   "cell_type": "markdown",
   "metadata": {},
   "source": [
    "### Adding Tuning Parameters"
   ]
  },
  {
   "cell_type": "code",
   "execution_count": 147,
   "metadata": {
    "ExecuteTime": {
     "end_time": "2021-09-29T09:19:02.791450Z",
     "start_time": "2021-09-29T09:19:02.769509Z"
    }
   },
   "outputs": [
    {
     "data": {
      "text/plain": [
       "DecisionTreeClassifier(max_depth=10, min_samples_split=100)"
      ]
     },
     "execution_count": 147,
     "metadata": {},
     "output_type": "execute_result"
    }
   ],
   "source": [
    "reg_dt_model = DecisionTreeClassifier(criterion = 'gini', max_depth = 10, min_samples_split=100)\n",
    "reg_dt_model.fit(X_train, train_labels)"
   ]
  },
  {
   "cell_type": "markdown",
   "metadata": {},
   "source": [
    "### Generating New Tree"
   ]
  },
  {
   "cell_type": "code",
   "execution_count": 148,
   "metadata": {
    "ExecuteTime": {
     "end_time": "2021-09-29T09:19:04.768408Z",
     "start_time": "2021-09-29T09:19:04.738334Z"
    }
   },
   "outputs": [],
   "source": [
    "ld_tree_regularized = open('ld_tree_regularized.dot','w')\n",
    "dot_data = tree.export_graphviz(reg_dt_model, out_file= ld_tree_regularized , feature_names = list(X_train), class_names = list(train_char_label))\n",
    "\n",
    "ld_tree_regularized.close()\n",
    "dot_data"
   ]
  },
  {
   "cell_type": "markdown",
   "metadata": {},
   "source": [
    "### Variable Importance"
   ]
  },
  {
   "cell_type": "code",
   "execution_count": 149,
   "metadata": {
    "ExecuteTime": {
     "end_time": "2021-09-29T09:19:06.428150Z",
     "start_time": "2021-09-29T09:19:06.417019Z"
    }
   },
   "outputs": [
    {
     "name": "stdout",
     "output_type": "stream",
     "text": [
      "                     Imp\n",
      "FICO            0.395750\n",
      "term            0.371775\n",
      "gender          0.159013\n",
      "age             0.056073\n",
      "purpose         0.009341\n",
      "home_ownership  0.008048\n"
     ]
    }
   ],
   "source": [
    "print (pd.DataFrame(reg_dt_model.feature_importances_, columns = [\"Imp\"], index = X_train.columns).sort_values('Imp',ascending=False))"
   ]
  },
  {
   "cell_type": "markdown",
   "metadata": {},
   "source": [
    "### Predicting on Training and Test dataset"
   ]
  },
  {
   "cell_type": "code",
   "execution_count": 150,
   "metadata": {
    "ExecuteTime": {
     "end_time": "2021-09-29T09:19:08.112881Z",
     "start_time": "2021-09-29T09:19:08.090741Z"
    }
   },
   "outputs": [],
   "source": [
    "ytrain_predict = reg_dt_model.predict(X_train)\n",
    "ytest_predict = reg_dt_model.predict(X_test)"
   ]
  },
  {
   "cell_type": "code",
   "execution_count": 151,
   "metadata": {
    "ExecuteTime": {
     "end_time": "2021-09-29T09:19:09.056638Z",
     "start_time": "2021-09-29T09:19:09.031141Z"
    }
   },
   "outputs": [
    {
     "name": "stdout",
     "output_type": "stream",
     "text": [
      "              precision    recall  f1-score   support\n",
      "\n",
      "           0       0.79      0.74      0.76      2635\n",
      "           1       0.88      0.91      0.89      5448\n",
      "\n",
      "    accuracy                           0.85      8083\n",
      "   macro avg       0.84      0.82      0.83      8083\n",
      "weighted avg       0.85      0.85      0.85      8083\n",
      "\n"
     ]
    }
   ],
   "source": [
    "print(classification_report(train_labels, ytrain_predict))"
   ]
  },
  {
   "cell_type": "code",
   "execution_count": 152,
   "metadata": {
    "ExecuteTime": {
     "end_time": "2021-09-29T09:19:09.967293Z",
     "start_time": "2021-09-29T09:19:09.942437Z"
    }
   },
   "outputs": [
    {
     "name": "stdout",
     "output_type": "stream",
     "text": [
      "              precision    recall  f1-score   support\n",
      "\n",
      "           0       0.79      0.76      0.77      1192\n",
      "           1       0.88      0.90      0.89      2273\n",
      "\n",
      "    accuracy                           0.85      3465\n",
      "   macro avg       0.83      0.83      0.83      3465\n",
      "weighted avg       0.85      0.85      0.85      3465\n",
      "\n"
     ]
    }
   ],
   "source": [
    "print(classification_report(test_labels, ytest_predict))"
   ]
  },
  {
   "cell_type": "markdown",
   "metadata": {},
   "source": [
    "# Model Evaluation"
   ]
  },
  {
   "cell_type": "markdown",
   "metadata": {},
   "source": [
    "## Measuring AUC-ROC Curve"
   ]
  },
  {
   "cell_type": "code",
   "execution_count": 153,
   "metadata": {
    "ExecuteTime": {
     "end_time": "2021-09-29T09:19:42.780148Z",
     "start_time": "2021-09-29T09:19:42.773795Z"
    }
   },
   "outputs": [],
   "source": [
    "import matplotlib.pyplot as plt"
   ]
  },
  {
   "cell_type": "markdown",
   "metadata": {},
   "source": [
    "### AUC and ROC for the training data"
   ]
  },
  {
   "cell_type": "code",
   "execution_count": 154,
   "metadata": {
    "ExecuteTime": {
     "end_time": "2021-09-29T09:19:44.555710Z",
     "start_time": "2021-09-29T09:19:44.346509Z"
    }
   },
   "outputs": [
    {
     "name": "stdout",
     "output_type": "stream",
     "text": [
      "AUC: 0.888\n"
     ]
    },
    {
     "data": {
      "image/png": "[encoded data removed]",
      "text/plain": [
       "<Figure size 432x288 with 1 Axes>"
      ]
     },
     "metadata": {
      "needs_background": "light"
     },
     "output_type": "display_data"
    }
   ],
   "source": [
    "# predict probabilities\n",
    "probs = reg_dt_model.predict_proba(X_train)\n",
    "# keep probabilities for the positive outcome only\n",
    "probs = probs[:, 1]\n",
    "# calculate AUC\n",
    "from sklearn.metrics import roc_auc_score\n",
    "auc = roc_auc_score(train_labels, probs)\n",
    "print('AUC: %.3f' % auc)\n",
    "# calculate roc curve\n",
    "from sklearn.metrics import roc_curve\n",
    "fpr, tpr, thresholds = roc_curve(train_labels, probs)\n",
    "plt.plot([0, 1], [0, 1], linestyle='--')\n",
    "# plot the roc curve for the model\n",
    "plt.plot(fpr, tpr, marker='.')\n",
    "# show the plot\n",
    "plt.show()"
   ]
  },
  {
   "cell_type": "code",
   "execution_count": 155,
   "metadata": {
    "ExecuteTime": {
     "end_time": "2021-09-29T09:19:45.009066Z",
     "start_time": "2021-09-29T09:19:44.987864Z"
    }
   },
   "outputs": [
    {
     "data": {
      "text/plain": [
       "array([[0.19672131, 0.80327869],\n",
       "       [1.        , 0.        ],\n",
       "       [0.19141914, 0.80858086],\n",
       "       ...,\n",
       "       [0.13379074, 0.86620926],\n",
       "       [0.13379074, 0.86620926],\n",
       "       [0.18987342, 0.81012658]])"
      ]
     },
     "execution_count": 155,
     "metadata": {},
     "output_type": "execute_result"
    }
   ],
   "source": [
    "reg_dt_model.predict_proba(X_train)"
   ]
  },
  {
   "cell_type": "code",
   "execution_count": 156,
   "metadata": {
    "ExecuteTime": {
     "end_time": "2021-09-29T09:19:45.905530Z",
     "start_time": "2021-09-29T09:19:45.900116Z"
    }
   },
   "outputs": [],
   "source": [
    "# Probability Threshold Optimization"
   ]
  },
  {
   "cell_type": "markdown",
   "metadata": {},
   "source": [
    "### AUC and ROC for the test data"
   ]
  },
  {
   "cell_type": "code",
   "execution_count": 157,
   "metadata": {
    "ExecuteTime": {
     "end_time": "2021-09-29T09:19:47.649121Z",
     "start_time": "2021-09-29T09:19:47.502804Z"
    }
   },
   "outputs": [
    {
     "name": "stdout",
     "output_type": "stream",
     "text": [
      "AUC: 0.882\n"
     ]
    },
    {
     "data": {
      "image/png": "[encoded data removed]",
      "text/plain": [
       "<Figure size 432x288 with 1 Axes>"
      ]
     },
     "metadata": {
      "needs_background": "light"
     },
     "output_type": "display_data"
    }
   ],
   "source": [
    "# predict probabilities\n",
    "probs = reg_dt_model.predict_proba(X_test)\n",
    "# keep probabilities for the positive outcome only\n",
    "probs = probs[:, 1]\n",
    "# calculate AUC\n",
    "from sklearn.metrics import roc_auc_score\n",
    "auc = roc_auc_score(test_labels, probs)\n",
    "print('AUC: %.3f' % auc)\n",
    "# calculate roc curve\n",
    "from sklearn.metrics import roc_curve\n",
    "fpr, tpr, thresholds = roc_curve(test_labels, probs)\n",
    "plt.plot([0, 1], [0, 1], linestyle='--')\n",
    "# plot the roc curve for the model\n",
    "plt.plot(fpr, tpr, marker='.')\n",
    "# show the plot\n",
    "plt.show()"
   ]
  },
  {
   "cell_type": "markdown",
   "metadata": {},
   "source": [
    "# Conclusion"
   ]
  },
  {
   "cell_type": "markdown",
   "metadata": {},
   "source": [
    "Accuracy on the Training Data: 85%  \n",
    "Accuracy on the Test Data: 85%"
   ]
  },
  {
   "cell_type": "markdown",
   "metadata": {},
   "source": [
    "AUC on the Training Data: 88%  \n",
    "AUC on the Test: 88%"
   ]
  },
  {
   "cell_type": "markdown",
   "metadata": {},
   "source": [
    "Accuracy, AUC, Precision and Recall for test data is almost inline with training data.  \n",
    "This proves no overfitting or underfitting has happened, and overall the model is a good model for classification"
   ]
  },
  {
   "cell_type": "markdown",
   "metadata": {},
   "source": [
    "FICO, term and gender (in same order of preference) are the most important variables in determining if a borrower will get into a delinquent stage "
   ]
  },
  {
   "cell_type": "markdown",
   "metadata": {},
   "source": [
    "                                               Happy Learning"
   ]
  },
  {
   "cell_type": "code",
   "execution_count": null,
   "metadata": {},
   "outputs": [],
   "source": []
  }
 ],
 "metadata": {
  "kernelspec": {
   "display_name": "Python 3",
   "language": "python",
   "name": "python3"
  },
  "language_info": {
   "codemirror_mode": {
    "name": "ipython",
    "version": 3
   },
   "file_extension": ".py",
   "mimetype": "text/x-python",
   "name": "python",
   "nbconvert_exporter": "python",
   "pygments_lexer": "ipython3",
   "version": "3.8.8"
  },
  "latex_envs": {
   "LaTeX_envs_menu_present": true,
   "autoclose": false,
   "autocomplete": true,
   "bibliofile": "biblio.bib",
   "cite_by": "apalike",
   "current_citInitial": 1,
   "eqLabelWithNumbers": true,
   "eqNumInitial": 1,
   "hotkeys": {
    "equation": "Ctrl-E",
    "itemize": "Ctrl-I"
   },
   "labels_anchors": false,
   "latex_user_defs": false,
   "report_style_numbering": false,
   "user_envs_cfg": false
  },
  "toc": {
   "base_numbering": 1,
   "nav_menu": {},
   "number_sections": true,
   "sideBar": true,
   "skip_h1_title": false,
   "title_cell": "Table of Contents",
   "title_sidebar": "Contents",
   "toc_cell": false,
   "toc_position": {},
   "toc_section_display": true,
   "toc_window_display": false
  },
  "varInspector": {
   "cols": {
    "lenName": 16,
    "lenType": 16,
    "lenVar": 40
   },
   "kernels_config": {
    "python": {
     "delete_cmd_postfix": "",
     "delete_cmd_prefix": "del ",
     "library": "var_list.py",
     "varRefreshCmd": "print(var_dic_list())"
    },
    "r": {
     "delete_cmd_postfix": ") ",
     "delete_cmd_prefix": "rm(",
     "library": "var_list.r",
     "varRefreshCmd": "cat(var_dic_list()) "
    }
   },
   "types_to_exclude": [
    "module",
    "function",
    "builtin_function_or_method",
    "instance",
    "_Feature"
   ],
   "window_display": false
  }
 },
 "nbformat": 4,
 "nbformat_minor": 2
}
